{
 "cells": [
  {
   "cell_type": "markdown",
   "metadata": {},
   "source": [
    "<center>\n",
    "<h1 style='font-family:Times New Roman'>\n",
    "    An Introduction to Recursion using Python</h1></center>"
   ]
  },
  {
   "cell_type": "markdown",
   "metadata": {},
   "source": [
    "<center>\n",
    "<h3 style='font-family:Times New Roman'>\n",
    "    Two Ways to Solve a Problem</h3</center>"
   ]
  },
  {
   "cell_type": "markdown",
   "metadata": {},
   "source": [
    "<p style='font-family:\"Times New Roman\"; font-size:12pt'>\n",
    "Suppose that you were assigned the task of writing a function $stars(n)$ which would take a single integer parameter $n.$  If $n \\le 0$, it should do nothing.  Otherwise, for positive values of $n$ it should print that many asterisks.  Thus, $stars(-3)$ should simply return silently, while $stars(5)$ should print<<br>  \n",
    "$*****$.<br> \n",
    "This is easy enough. Consider the following code:</p>"
   ]
  },
  {
   "cell_type": "code",
   "execution_count": null,
   "metadata": {},
   "outputs": [],
   "source": [
    "def stars(n):\n",
    "  if n > 0:\n",
    "    for s in range(n):\n",
    "      print('*', end='')\n",
    "\n",
    "#main program\n",
    "num = int(input(\"Enter an integer:\"))\n",
    "stars(num)"
   ]
  },
  {
   "cell_type": "markdown",
   "metadata": {},
   "source": [
    "<p style='font-family:\"Times New Roman\"'> \n",
    "You can try it yourself with various numbers by clicking anywhere on the Python program above, and then clicking the Run button.\n",
    "\n",
    "<p style='font-family:\"Times New Roman\"'>\n",
    "I want to propose another solution.  This will doubtless sound like a silly way of doing things (because in the case of this particular problem, it is), but it will be instructive helpful, I think, in beginning to understand a new programming technique.  If I want to print just one asterisk, I can simply print it.  On the other hand, if I want to print 7 asterisks, I can print asterisks, and then call my original $stars$ function to print $7 - 1 = 6$ asterisks.  I told you it would sound silly, but it will work. More generally, to print $n > 1$ asterisks, I first print one, then call $stars(n-1)$.</p>"
   ]
  },
  {
   "cell_type": "code",
   "execution_count": null,
   "metadata": {},
   "outputs": [],
   "source": [
    "def stars2(n):\n",
    "  if n == 1:\n",
    "    print(\"*\", end='') #print one asterisk\n",
    "  elif n > 1:\n",
    "    stars(1)   #call stars to print 1 asterisk\n",
    "    stars(n-1) #now call stars  to print n-1 asterisks\n",
    "    \n",
    "#main program\n",
    "num = int(input(\"Enter an integer:\"))\n",
    "stars2(num)"
   ]
  },
  {
   "cell_type": "markdown",
   "metadata": {},
   "source": [
    "<p style='font-family:\"Times New Roman\"'>\n",
    "Once again, you can test this new version by clicking on the code box just above, and clicking the Run button.</p>\n",
    "\n",
    "<p style='font-family:\"Times New Roman\"'>\n",
    "In the $elif$ clause of $stars2$, when I wanted to asterisks, I knew I already had a function, that could print multiple asterisks.  I used it when I wanted to print 1 asterisk on line 5 and when I wanted to print $n-1$ asterisks on line 6.  In other words, I did what any sensible person would do knowing that a working function existed that would do just what I needed done -- I used it. </p>\n",
    "    \n",
    "<p style='font-family:\"Times New Roman\"'>\n",
    "But, now I have two functions, $stars$ and $stars2$ which do exactly the same thing for any valid input.  Their behavior is indistinguishable.  So why not substitute $stars2$ for $stars$ on line 5?  After all, it should give exactly the same result as the original $stars$ would give.  Let's try that out.</p>"
   ]
  },
  {
   "cell_type": "code",
   "execution_count": null,
   "metadata": {},
   "outputs": [],
   "source": [
    "def stars2(n):\n",
    "  if n == 1:\n",
    "    print(\"*\", end='') #print one asterisk\n",
    "  elif n > 1:\n",
    "    stars2(1)   #Call stars2 to print 1 asterisk\n",
    "    stars2(n-1) #Now call stars2  to print n-1 asterisks\n",
    "    \n",
    "#main program\n",
    "num = int(input(\"Enter an integer:\"))\n",
    "stars2(num)"
   ]
  },
  {
   "cell_type": "code",
   "execution_count": null,
   "metadata": {},
   "outputs": [],
   "source": []
  },
  {
   "cell_type": "markdown",
   "metadata": {},
   "source": [
    "<p style='font-family:\"Times New Roman\"'>\n",
    "Once again, you can try it out by clicking in the code box above, and then clicking the Run key.  You will find \n",
    "that it works just fine.  It may make you feel a little queasy when you think about the fact that this function is\n",
    "calling itself, but in Python (and most modern computer languages) this is perfectly legal as long as you follow two \n",
    "rules.  First, there must be at least one value of the argument that will <i>not</i> cause the function to call itself, an escape route.  In this case, the function will not call itself for any $n \\le 1$.  Second, each time the function is called, it must call itself with a new value that is closer to the escape route.  That is the case here, because in each case, it calls itself with a smaller value of n, and thus it will eventually have to call itself with $n = 1$.  \n",
    "A function like this that calls itself is said to be a <b><i>recursive</i></b> function, and the technique of using recursive functions is called <b><i>recursion</i></b>."
   ]
  },
  {
   "cell_type": "markdown",
   "metadata": {},
   "source": [
    "<center>\n",
    "<h3 style='font-family:Times New Roman'>\n",
    "    When is Recursion Appropriate?</h3></center>\n",
    "    \n",
    "<p style='font-family:Times New Roman'>\n",
    "Perhaps you would like to ask me, \"Which of the two approaches I used to solve the asterisk problem is 'better.'\"\n",
    "If so, my first response would be, \"Better in what sense.\"  There are at least three ways in which one algorithm and its\n",
    "implementation can be better than another.  First, could be better because it uses less memory.  Second, it could be\n",
    "better because it executes more quickly.  Third, it may be easier to understand and maintain.  In the case of this particular problem, the recursive solution is going to need more memory and run more slowly.  I suspect that you also feel that it is more difficult to understand than the non-recursive solution, but I hope that as you become more experienced using recursion, you begin to see them as equally understandable.  In any event, the non-recursive version wins on at least two and possibly all three of the criteria.  Does that mean it is the right way to solve the problem?  I would argue that the following solution is better than either $stars$ or $stars2$.</p>"
   ]
  },
  {
   "cell_type": "code",
   "execution_count": null,
   "metadata": {},
   "outputs": [],
   "source": [
    "def stars3(n):\n",
    "  print(n*'*')\n",
    "\n",
    "#main program\n",
    "num = int(input(\"Enter an integer:\"))\n",
    "stars2(num)"
   ]
  },
  {
   "cell_type": "markdown",
   "metadata": {},
   "source": [
    "<p style='font-family:Times New Roman'>\n",
    "I suspect that $stars3$ uses no more memory than $stars$, that the execution time is comparable, and I find it by far the easiest to understand. But... if I didn't know that Python allows you to write things like (n * '*'), but I did know how to use a for loop, I would use the for loop, because it gets the job done.  The most common reason for writing\n",
    "recursive functions is because recursive solutions are for some problems far more obvious and less complex than corresponding non-recursive solutions. Often too, they are also easier to form a logical argument that the algorithm is correct.  Here are some examples.</p>"
   ]
  },
  {
   "cell_type": "markdown",
   "metadata": {},
   "source": [
    "<center>\n",
    "<h3 style='font-family:Times New Roman'>\n",
    "Example 1: More Stars</h3><center>\n",
    "\n",
    "<p style='font-family:Times New Roman'>\n",
    "Consider the following sequences:<br>\n",
    "<b>$S_1$:</b> 1  &emsp;<b>$S_2$:</b> 1 2 1 &emsp;<b>$S_3$:</b> 1 2 1 3 1 2 1 &emsp;<b>$S_4$:</b> 1 2 1 3 1 2 1 4 1 2 1 3 1 2 1\n",
    "    &emsp;<b>$S_5$:</b> 1 2 1 3 1 2 1 4 1 2 1 3 1 2 1 5 1 2 1 3 1 2 1 4 1 2 1 3 1 2 1<br>\n",
    "I want to write a function that will print asterisks according to those sequences.  If I pass the function 1, it will print a single asterisk.  If I pass it 2, it will print a line with one asterisk, a line with two asterisks, and a line with one asterisk.  How can I do that?</p>\n",
    "    \n",
    "<p style='font-family:Times New Roman'>\n",
    "Looking again at the sequences, we see that each sequence, $S_n$, with $n > 1$, contains two copies of the previous sequence, $S_{n-1}$ separated by the number $n$.  This suggests the following function:</p>"
   ]
  },
  {
   "cell_type": "code",
   "execution_count": null,
   "metadata": {},
   "outputs": [],
   "source": [
    "def more_stars(n):\n",
    "  if n < 1:\n",
    "    print(\"There is no pattern for negative numbers.\")\n",
    "  elif n == 1:       #escape route\n",
    "    print('*')\n",
    "  else:         #n > 1\n",
    "    more_stars(n-1)  #draw the previous sequence\n",
    "    print(n * '*')        #print a row of n stars\n",
    "    more_stars(n-1) #once again draw the previous sequence\n",
    "\n",
    "#main program\n",
    "num = int(input(\"Enter an integer:\"))\n",
    "more_stars(num)"
   ]
  },
  {
   "cell_type": "markdown",
   "metadata": {},
   "source": [
    "<p style='font-family:Times New Roman'>\n",
    "As before, you can try out this function by clicking on the code box above and then clicking Run.  Don't enter any value more than 4 or 5.  The length of these sequences grows very large very quickly.  Entering 10 will give you more than 1000 lines of stars.<br><br>\n",
    "These sequences pop up in unexpected places.  For instance, here is a list of the numbers from 0 to 15 in binary. </p>\n"
   ]
  },
  {
   "cell_type": "markdown",
   "metadata": {},
   "source": [
    "<p style='font-family:Times New Roman'>\n",
    "Decimal  &ensp;Binary &ensp;Leftmost Column to Change (Column numbers 4 3 2 1)<br> \n",
    "   &emsp;00     &emsp; &emsp;0000<br>\n",
    "   &emsp;01   &emsp;   &emsp;0001&emsp; 1<br>\n",
    "   &emsp;02   &emsp;   &emsp;0010&emsp; 2<Br>\n",
    "   &emsp;03  &emsp;    &emsp;0011&emsp; 1<br>\n",
    "   &emsp;04   &emsp;   &emsp;0100&emsp; 3<br>\n",
    "   &emsp;05   &emsp;   &emsp;0101&emsp; 1<br>\n",
    "   &emsp;06  &emsp;    &emsp;0110&emsp; 2<br>\n",
    "   &emsp;07    &emsp;  &emsp;0111&emsp; 1<br>\n",
    "   &emsp;08    &emsp;  &emsp;1000&emsp; 4<br>\n",
    "   &emsp;09    &emsp;  &emsp;1001&emsp; 1<br>\n",
    "  &emsp;10    &emsp;  &emsp;1010&emsp; 2<br>\n",
    "  &emsp;11     &emsp; &emsp;1011&emsp; 1<br>\n",
    "  &emsp;12    &emsp;  &emsp;1100&emsp; 3<br>\n",
    "  &emsp;13    &emsp;  &emsp;1101&emsp; 1<br>\n",
    "  &emsp;14    &emsp;  &emsp;1110&emsp; 2<br>\n",
    "    &emsp;15   &emsp; &emsp;1111&emsp; 1<br><br>\n",
    "The third column is the number of the leftmost column of binary digits which changes from 0 to 1 or from 1 to 0.  The columns are numbered 4 3 2 1, where 4 is the most significant column and 1 is the least.  Notice that the sequence of\n",
    "    numbers in the third column is our old friend $S_4$.\n"
   ]
  },
  {
   "cell_type": "markdown",
   "metadata": {},
   "source": [
    "<center><h3 style='font-family:Times New Roman'>\n",
    "Example 2: The Towers of Hanoi<h3><p>\n",
    "    \n",
    "![Towers of Hanoi](img/Tower_of_Hanoi.jpg)</center>"
   ]
  },
  {
   "cell_type": "markdown",
   "metadata": {},
   "source": [
    "<p style='font-family:Times New Roman'>\n",
    "The Towers of Hanoi is a puzzle that dates from the 1880s.  It consists of three pegs and a series of disks of\n",
    "increasing diameter, each with a central hole so they can be stacked on one of the pegs.<br><br>\n",
    "The goal of the puzzle is to start with all of the disks on one of the pegs, arranged with largest on the bottom and smallest on the top. The goal is to get them all onto a different peg following two rules.<br>\n",
    "1. You may only move one disk at a time.<br>\n",
    "2. You may only place a disk on a larger disk, or on the base.<br>\n",
    "For convenience, we will numer the pegs 0, 1, and 2 from left to right.<br>\n",
    "<br>\n",
    "Our goal is to write a function that will print line by line instructions tellin us which disk to move where.  For instance, if we were using three disks, and wanted to move them from peg 0 to peg 2, we would want to get the following list of instructions:\n",
    "<br><br>\n",
    "Move a disk from peg 0 to peg 2<br>\n",
    "Move a disk from peg 0 to peg 1<br>\n",
    "Move a disk from peg 2 to peg 1<br>\n",
    "Move a disk from peg 0 to peg 2<br>\n",
    "Move a disk from peg 1 to peg 0<br>\n",
    "Move a disk from peg 1 to peg 2<br>\n",
    "Move a disk from peg 0 to peg 2<br>\n",
    "<br>   \n",
    "In developing a solution, I will refer to the initial peg as the $source$, the final peg as the $destination$ and the remaining peg as the $extra$. $n$ will represent the total number of disks.<br>\n",
    "<br>A little reflection yields the idea that we need to get all of the disks but the largest off of the source peg and onto the extra peg.  This then would allow us to move the largest disk from the source to the\n",
    "destination.  If only we had a function we could call that would print the instructions for moving $n-1$ disks from the source peg to the extra peg.  But, as soon as we finish writing our function we will have code to do exactly that.  Thus, our algorithm for $n > 1$ becomes:<br>\n",
    "<br>\n",
    "1. Move $n-1$ disks from the source peg to the extra peg.<br>\n",
    "2. Move 1 disk from the source peg to the destination peg.<br>\n",
    "3. Move $n-1$ disks from the extra peg to the destination peg<br>\n",
    "<br>\n",
    "The following code box shows an implementation of that algorithm.  Note that the code in the function is substantially\n",
    "smaller than the code required in the main program to validate the input data.\n",
    "\n",
    "    \n",
    "\n"
   ]
  },
  {
   "cell_type": "code",
   "execution_count": 5,
   "metadata": {},
   "outputs": [
    {
     "name": "stdout",
     "output_type": "stream",
     "text": [
      "Number of disks=3\n",
      "Starting peg (0, 1, or 2) =9\n",
      "You must enter 0, 1, or 2. Try again.\n",
      "Starting peg (0, 1, 2) =0\n",
      "Ending peg (0, 1, or 2 and not the starting peg) =2\n",
      "Move a disk from peg 0 to peg 2\n",
      "Move a disk from peg 0 to peg 1\n",
      "Move a disk from peg 2 to peg 1\n",
      "Move a disk from peg 0 to peg 2\n",
      "Move a disk from peg 1 to peg 0\n",
      "Move a disk from peg 1 to peg 2\n",
      "Move a disk from peg 0 to peg 2\n"
     ]
    }
   ],
   "source": [
    "def hanoi(n, src, dest):#n = number of disks, src = starting peg, dest = ending peg. Pegs numbered 0, 1, 2 left to right\n",
    "  extra = 3 - src - dest\n",
    "  if n == 1:  #escape route\n",
    "    print(\"Move a disk from peg\", src, \"to peg\", dest) \n",
    "  else:\n",
    "    hanoi(n-1, src, extra)\n",
    "    hanoi(1, src, dest)\n",
    "    hanoi(n-1 ,extra, dest)\n",
    "    \n",
    "#main program\n",
    "num = int(input('Number of disks='))\n",
    "while(num <= 0):\n",
    "  print(\"The number of disks must be positive! Try again\")\n",
    "  num = int(input('Number of disks='))\n",
    "start = int(input(\"Starting peg (0, 1, or 2) =\"))\n",
    "while(start < 0 or start > 2):\n",
    "  print(\"You must enter 0, 1, or 2. Try again.\")\n",
    "  start = int(input(\"Starting peg (0, 1, 2) =\"))\n",
    "end = int(input('Ending peg (0, 1, or 2 and not the starting peg) ='))\n",
    "while end < 0 or end > 2 or end == start:\n",
    "  print(\"End must be 0, 1, or2  and must not equal the starting peg. Try again.\")\n",
    "  end = int(input('Ending peg (0, 1, or 2 and not the starting peg) ='))\n",
    "    \n",
    "hanoi(num, start, end)"
   ]
  },
  {
   "cell_type": "markdown",
   "metadata": {},
   "source": [
    "<p style='font-family:Times New Roman'>\n",
    "One thing that may not be obvious about the hanoi function is the expression I use in line 2 to calculae the number of the extra peg.  The numbers of the source and destination pegs come in as parameters.  The sum of all three peg numbers\n",
    "is $0 + 1 + 2 = 3$.  If I subtract the peg numbers of the source and destination, what must be left is the peg \n",
    "number of the extra.<br>\n",
    "<br>\n",
    "One last observation.  If you start with three disks, and number them 1(smallest) 2(middle) 3(largest and then run through the algorithm keeping track of the order in which the disks move, you will see<br>\n",
    "1 2 1 3 1 2 1 which is the sequence $S_3$ from the first example.  This is true in general. If you number $n$ disks, starting with 1 for the smallest and ending with $n$ for the largest, this algorithm will move the disks in the order specified by $S_n$.<br>\n",
    "<br>\n",
    "Finally, I am leaving here with no explanation a Python function which solves the Towers of Hanoi without using recursion.  Ponder how much more code it took to produce it.  Can  you figure out what it is doing?  If so, can you give a formal proof of correctness?\n",
    "    "
   ]
  },
  {
   "cell_type": "code",
   "execution_count": 30,
   "metadata": {},
   "outputs": [
    {
     "name": "stdout",
     "output_type": "stream",
     "text": [
      "Number of disks=5\n",
      "Starting peg (0, 1, or 2) =2\n",
      "Ending peg (0, 1, or 2 and not the starting peg) =0\n",
      "Moving disk 1 from peg 2 to peg 0\n",
      "Moving disk 2 from peg 2 to peg 1\n",
      "Moving disk 1 from peg 0 to peg 1\n",
      "Moving disk 3 from peg 2 to peg 0\n",
      "Moving disk 1 from peg 1 to peg 2\n",
      "Moving disk 2 from peg 1 to peg 0\n",
      "Moving disk 1 from peg 2 to peg 0\n",
      "Moving disk 4 from peg 2 to peg 1\n",
      "Moving disk 1 from peg 0 to peg 1\n",
      "Moving disk 2 from peg 0 to peg 2\n",
      "Moving disk 1 from peg 1 to peg 2\n",
      "Moving disk 3 from peg 0 to peg 1\n",
      "Moving disk 1 from peg 2 to peg 0\n",
      "Moving disk 2 from peg 2 to peg 1\n",
      "Moving disk 1 from peg 0 to peg 1\n",
      "Moving disk 5 from peg 2 to peg 0\n",
      "Moving disk 1 from peg 1 to peg 2\n",
      "Moving disk 2 from peg 1 to peg 0\n",
      "Moving disk 1 from peg 2 to peg 0\n",
      "Moving disk 3 from peg 1 to peg 2\n",
      "Moving disk 1 from peg 0 to peg 1\n",
      "Moving disk 2 from peg 0 to peg 2\n",
      "Moving disk 1 from peg 1 to peg 2\n",
      "Moving disk 4 from peg 1 to peg 0\n",
      "Moving disk 1 from peg 2 to peg 0\n",
      "Moving disk 2 from peg 2 to peg 1\n",
      "Moving disk 1 from peg 0 to peg 1\n",
      "Moving disk 3 from peg 2 to peg 0\n",
      "Moving disk 1 from peg 1 to peg 2\n",
      "Moving disk 2 from peg 1 to peg 0\n",
      "Moving disk 1 from peg 2 to peg 0\n"
     ]
    }
   ],
   "source": [
    "def hanoi2(n, src, dest):\n",
    "  if (dest - src)%3 == 1: #find which direction the biggest disk moves\n",
    "    n_dir = +1\n",
    "  else:\n",
    "    n_dir = -1\n",
    "\n",
    "  if n % 2 == 0:  #figure which direction even and odd disks move\n",
    "    even_dir = n_dir\n",
    "    odd_dir = -n_dir\n",
    "  else:\n",
    "    even_dir = -n_dir\n",
    "    odd_dir = n_dir\n",
    "\n",
    "  peg0 = []       #each peg is a stack of disks. pop will remove the top disk\n",
    "  peg1 = []       #so moving a disk means a pop and an append\n",
    "  peg2 = []\n",
    "\n",
    "  pegs = [peg0, peg1, peg2] #load up the starting peg\n",
    "  for d in range(n,0,-1):\n",
    "    pegs[src].append(d)\n",
    "  last = -1 #there was no last tower moved to\n",
    "  done = False\n",
    "  while not done:\n",
    "    smallest = n+1\n",
    "    for p in range(3):\n",
    "      if p != last and len(pegs[p]) > 0 and pegs[p][-1] < smallest:\n",
    "        smallest = pegs[p][-1]\n",
    "        start_peg = p\n",
    "    if len(pegs[start_peg]) == 0:\n",
    "      done = True\n",
    "      continue\n",
    "    disk = pegs[start_peg].pop()\n",
    "    if disk%2 == 0:\n",
    "      next_peg = (start_peg + even_dir)%3\n",
    "    else:\n",
    "      next_peg = (start_peg + odd_dir)%3\n",
    "    pegs[next_peg].append(disk)\n",
    "    print(\"Moving disk\", disk, \"from peg\", start_peg, \"to peg\", next_peg)\n",
    "    last = next_peg\n",
    "    \n",
    "#main program\n",
    "num = int(input('Number of disks='))\n",
    "while(num <= 0):\n",
    "  print(\"The number of disks must be positive! Try again\")\n",
    "  num = int(input('Number of disks='))\n",
    "start = int(input(\"Starting peg (0, 1, or 2) =\"))\n",
    "while(start < 0 or start > 2):\n",
    "  print(\"You must enter 0, 1, or 2. Try again.\")\n",
    "  start = int(input(\"Starting peg (0, 1, 2) =\"))\n",
    "end = int(input('Ending peg (0, 1, or 2 and not the starting peg) ='))\n",
    "while end < 0 or end > 2 or end == start:\n",
    "  print(\"End must be 0, 1, or2  and must not equal the starting peg. Try again.\")\n",
    "  end = int(input('Ending peg (0, 1, or 2 and not the starting peg) ='))\n",
    "    \n",
    "hanoi2(num, start, end)"
   ]
  },
  {
   "cell_type": "code",
   "execution_count": null,
   "metadata": {},
   "outputs": [],
   "source": []
  }
 ],
 "metadata": {
  "kernelspec": {
   "display_name": "Python 3",
   "language": "python",
   "name": "python3"
  },
  "language_info": {
   "codemirror_mode": {
    "name": "ipython",
    "version": 3
   },
   "file_extension": ".py",
   "mimetype": "text/x-python",
   "name": "python",
   "nbconvert_exporter": "python",
   "pygments_lexer": "ipython3",
   "version": "3.7.6"
  }
 },
 "nbformat": 4,
 "nbformat_minor": 4
}
